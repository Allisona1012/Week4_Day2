{
 "cells": [
  {
   "cell_type": "markdown",
   "id": "44a55aa6",
   "metadata": {},
   "source": [
    "\"Return the number (count) of vowels in the given string.\n",
    "\n",
    "We will consider a, e, i, o, u as vowels (but not y).\n",
    "\n",
    "The input string will only consist of lower case letters and/or spaces.\n",
    "\n",
    "ex:\n",
    "get_count('hello_world') => 3\""
   ]
  },
  {
   "cell_type": "code",
   "execution_count": 17,
   "id": "5fbb3b18",
   "metadata": {},
   "outputs": [
    {
     "name": "stdout",
     "output_type": "stream",
     "text": [
      "The word Hello has 2 vowels.\n"
     ]
    }
   ],
   "source": [
    "def vowel_count(word):\n",
    "    vowels = ['a','e','i','o','u']\n",
    "    vowel_count = 0\n",
    "    for letter in word:\n",
    "        if letter in vowels:\n",
    "            vowel_count += 1\n",
    "        else:\n",
    "            pass\n",
    "    print(f'The word {word} has {vowel_count} vowels.')\n",
    "    \n",
    "vowel_count('Hello')"
   ]
  },
  {
   "cell_type": "code",
   "execution_count": 18,
   "id": "d7419fd5",
   "metadata": {},
   "outputs": [],
   "source": [
    "import re"
   ]
  },
  {
   "cell_type": "code",
   "execution_count": 21,
   "id": "7da3f5c3",
   "metadata": {},
   "outputs": [
    {
     "data": {
      "text/plain": [
       "7"
      ]
     },
     "execution_count": 21,
     "metadata": {},
     "output_type": "execute_result"
    }
   ],
   "source": [
    "def get_vowel_count(a_string):\n",
    "    vowels=re.compile('[aeiou]')\n",
    "    return len(vowels.findall(a_string))\n",
    "\n",
    "get_vowel_count('Hello!How are you?')"
   ]
  }
 ],
 "metadata": {
  "kernelspec": {
   "display_name": "Python 3 (ipykernel)",
   "language": "python",
   "name": "python3"
  },
  "language_info": {
   "codemirror_mode": {
    "name": "ipython",
    "version": 3
   },
   "file_extension": ".py",
   "mimetype": "text/x-python",
   "name": "python",
   "nbconvert_exporter": "python",
   "pygments_lexer": "ipython3",
   "version": "3.9.7"
  }
 },
 "nbformat": 4,
 "nbformat_minor": 5
}
